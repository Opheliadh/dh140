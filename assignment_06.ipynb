{
 "cells": [
  {
   "cell_type": "markdown",
   "id": "7e45c37b-2c06-496d-9cfc-ae5cb0773e36",
   "metadata": {},
   "source": [
    "# Step 1 Shakespeare word frequency"
   ]
  },
  {
   "cell_type": "code",
   "execution_count": 36,
   "id": "cf3c947b-bd1c-41f8-bf41-3a98963e37ce",
   "metadata": {},
   "outputs": [],
   "source": [
    "import nltk"
   ]
  },
  {
   "cell_type": "code",
   "execution_count": 37,
   "id": "56fc4fe5-519b-4846-a7df-04c011940b0c",
   "metadata": {},
   "outputs": [],
   "source": [
    "romeojuliet = open(\"Shakespeare.txt\")"
   ]
  },
  {
   "cell_type": "markdown",
   "id": "0c3ff19b-630d-4a58-b82e-24c2d0f6acdf",
   "metadata": {},
   "source": [
    "## Tokenization"
   ]
  },
  {
   "cell_type": "code",
   "execution_count": 38,
   "id": "aea5d4db-c017-450a-9a30-350177fc44d2",
   "metadata": {},
   "outputs": [],
   "source": [
    "from nltk.tokenize import word_tokenize, sent_tokenize\n",
    "\n",
    "# Tokenizes the text into sentences\n",
    "text = romeojuliet.read()\n",
    "sentences = sent_tokenize(text)"
   ]
  },
  {
   "cell_type": "code",
   "execution_count": 39,
   "id": "264f23f9-5efe-4705-9577-145a73f04eef",
   "metadata": {},
   "outputs": [],
   "source": [
    "# Tokenizes the text into words\n",
    "words = []\n",
    "for s in sentences:\n",
    "    for w in word_tokenize(s):\n",
    "        words.append(w)"
   ]
  },
  {
   "cell_type": "markdown",
   "id": "97220ea9-a149-4eb7-8137-196c8d3c1460",
   "metadata": {},
   "source": [
    "## Remove Stopwords"
   ]
  },
  {
   "cell_type": "code",
   "execution_count": 40,
   "id": "781328c6-9e3f-4c6b-8f81-cfbfd1e98166",
   "metadata": {},
   "outputs": [
    {
     "name": "stderr",
     "output_type": "stream",
     "text": [
      "[nltk_data] Downloading package stopwords to /home/jovyan/nltk_data...\n",
      "[nltk_data]   Package stopwords is already up-to-date!\n"
     ]
    },
    {
     "data": {
      "text/plain": [
       "True"
      ]
     },
     "execution_count": 40,
     "metadata": {},
     "output_type": "execute_result"
    }
   ],
   "source": [
    "from nltk.corpus import stopwords\n",
    "from string import punctuation\n",
    "nltk.download('stopwords')"
   ]
  },
  {
   "cell_type": "code",
   "execution_count": 41,
   "id": "bc354ec3-b290-4c39-945f-dcbfdae2b95e",
   "metadata": {},
   "outputs": [],
   "source": [
    "# Creating the stopwords for the text\n",
    "textsw = list(punctuation) + stopwords.words('english')"
   ]
  },
  {
   "cell_type": "code",
   "execution_count": 42,
   "id": "ae6cd4f6-7a7d-4f82-a880-9a74aa4eb9fe",
   "metadata": {},
   "outputs": [],
   "source": [
    "text_cleaned = [word for word in words if word.lower() not in textsw]"
   ]
  },
  {
   "cell_type": "markdown",
   "id": "f78e428a-28ee-4ee5-90ee-0bcf9ce31358",
   "metadata": {},
   "source": [
    "## Top 20 frequent words"
   ]
  },
  {
   "cell_type": "code",
   "execution_count": 43,
   "id": "ba3fa3dc-1997-4891-a599-c5b231831591",
   "metadata": {},
   "outputs": [
    {
     "data": {
      "text/plain": [
       "[(\"'s\", 293),\n",
       " ('thou', 236),\n",
       " (\"'d\", 224),\n",
       " ('Rom', 163),\n",
       " ('Romeo', 152),\n",
       " ('thy', 145),\n",
       " ('love', 139),\n",
       " ('thee', 135),\n",
       " ('Nurse', 118),\n",
       " ('Jul', 117),\n",
       " ('shall', 96),\n",
       " (\"'ll\", 90),\n",
       " ('Project', 81),\n",
       " ('Enter', 80),\n",
       " ('Friar', 76),\n",
       " ('night', 72),\n",
       " ('man', 69),\n",
       " ('Juliet', 64),\n",
       " ('Ben', 64),\n",
       " ('Tybalt', 63)]"
      ]
     },
     "execution_count": 43,
     "metadata": {},
     "output_type": "execute_result"
    }
   ],
   "source": [
    "import collections\n",
    "w_counts = collections.Counter(text_cleaned)\n",
    "w_counts.most_common(20)"
   ]
  },
  {
   "cell_type": "markdown",
   "id": "771138bd-2b23-4fa4-a2be-3c2cf438a497",
   "metadata": {},
   "source": [
    "## Comment on the result above\n",
    "\n",
    "#### These words give an okay sense of the play. It includes the name of the key characters, \"Romeo\" and \"Juliet,\" as well as the theme - \"love.\" However, this list is missing another main theme, which is family. One cannot see the struggles between these two lovers and their tragic ending. "
   ]
  },
  {
   "cell_type": "markdown",
   "id": "c870ed81-faa2-4f07-90c0-6c9f4e950963",
   "metadata": {},
   "source": [
    "# Step 2 Yelp sentiments"
   ]
  },
  {
   "cell_type": "code",
   "execution_count": 44,
   "id": "ef207a44-d384-4089-8b8e-c55c8f8fc246",
   "metadata": {},
   "outputs": [],
   "source": [
    "# 5 stars\n",
    "r1 = \"One of the best dessert places I've been to. The macaroons and tarts have the right amount of sweet and tangy flavors.\"\n",
    "r2 = \"I love their pizzas and their crème brûlée! Love it! I am typing as a kid. Been there a week ago. There is indoor/outdoor seating(I mean the building is the inside and the outside is a covered space but is outside of the building.) You should stop by and try the Grand Cru macaron and the tiramisu(if available). If the Bottega Louie manager sees this, thank you for all the good food and customer service and care! Margherita Pizza, Smoked Salmon Benedict, Portobello Mushroom are some of things that you have to try!\"\n",
    "r3 = \"Exquisite food location, food is incomparable.  Desserts are to die for if you love desserts\"\n",
    "r4 = \"I always come in to buy myself a little after work pick-me-up macaron/lemon tart, but this time I actually came to dine in.A friend and I walked in last night at around 9:30pm, and had a phenomenal time. I wanted to personally give Tammy a shout out for being the most gracious and warm hostess we could have asked for. She truly made our dining experience a joy. Because it was so late, we ordered one trenne pasta to share and Pinot noir. Trenne was very delicious, meat was tender and juicy, and pasta had a slight crisp to it which I really enjoyed! Definitely will be coming back to try more on the menu.\"\n",
    "r5 = \"Beautiful interior with amazing food.There was a bit of a wait but that's okay! The pizza was thinly crusted Meatballs were juicy Coffee was strong Pasta was flavorful\"\n",
    "r6 = \"Ok.  Just YUMM.  Heads up - if you see a dessert, it may be sold out before you get a chance to order it after your meal.  Since I was celebrating my birthday I didn't want to take a chance and miss out on the Limoncello so I ordered it as soon as I arrived.  So back to the start - ordered the pizza - half sausage and half pepperoni.  Can I addd explicatives here? It was so darn flavorful.  I mean.  Ugh - I wanted to inhale every bite but tried to slow it down. I forgot to take pictures. Made sure to save room for my dessert and so glad I did - it was FANTASTIC.\"\n",
    "r7 = \"Came on a Monday night at 10pm for dinner. And boyyyyy what a FABULOUS IDEA that was! It was basically empty and staff was so nice and attentive. They apparently don't have the Pineapple Martini on their menu anymore (such a freaking shame) that was my go to here. But thankfully, an old bartender was on duty and made it! Delicious, just like old times.MUST get and try if you are a first timer here... Portobello Fries Balsamic Fried Brussel Sprouts (no one does Brussel Sprouts like this place) Perch is close def more veggie like over there  The Carbonara Pasta Def more than enough food for a party of 3 as we shared everything family style as well. Always nice to not get a single plate and be able to sample everything. We ended the course with a Soufflé and that was delicious as well (:\"\n",
    "r8 = \"BOTTEGA LOUIE makes simple items really well. They make ordinary items not so ordinary. Unfortunately, parking in the surrounding streets are awful awful awful. If you have a person who walks with cane with you, you might want to drop them off first. There's no guarantee you can find metered parking anytime soon though. Seasonal BUTTERNUT SQUASH SOUP is sooo good. I don't know what sort of sorcery they did to it, but it's definitely not just 'squash', flavor-wise.Speaking of multi-dimensional, the AGNOLOTTI is like eating autumn in one dish.TIGER PRAWNS satisfied my 'salt tooth'.PORTABELLO FRIES are reliably good.\"\n",
    "r9 = \"Came here for dessert and sat at the bar! Pro tip- There are tables next to the bar that are usually available with no wait & the full menu is available to you.  Also, the chocolate soufflé is not on the menu but available to order! The crime brûlée is delicious!\"\n",
    "# 4 stars\n",
    "r10 = \"Review for their desserts (no food): Went here on a Sunday night for some sweets. There's separate seating for ppl getting food vs desserts. Obvi the seating for the restaurant is fancier. Maybe we came too late but most of the cakes were sold out by the time we got there. We were still able to get a small tiramisu for around $18 (if my memory is correct). The full size cake is $40.  I was shocked at how expensive the small cake was but it tasted so smooth and creamy. In other words it was very good so I guess I understand why it's expensive. But would I buy it again? Probs not. It's a once in a lifetime experience. Our group also got macarons and that was pricey too. But their macarons are good quality and taste good too. Again, I prob won't spend this much money on desserts ever again. But I do recommend this place when you want to treat yourself to fancy desserts.\"\n",
    "r11 = \"Boujee bakery/restaurant Make sure you make reservations... The garden outdoor area in the back is so pretty The food is pretty good, and not too crazy expensive, but also not memorable. The pastries were so gooI tried all the macaroon flavors .. so goood! All of them have the flavor as labeled and it's not subtle where you have to think what flavor is this? Def recommend getting a cup of coffee and some pasties\"\n",
    "r12 = \"S'Mores bonbon made in house. Yup, the graham crackers, marshmallow and chocolate ganache were made in house.\"\n",
    "# 3 stars\n",
    "r13 = \"I thought this place was going to be fancy because of the interior design. Was not that impressed by the food. I would stick to their dessert.Burrata: 3/5There were peaches in it, I'm assuming seasonal. It was good. The purée was bland.Caesar Salad: 4/5 The cheese on it was really good! But when it came out it wasn't chopped. Lol uuuuh so extra work for us for an elevated look? ROFL\"\n",
    "r14 = \"You can expect: a fancy place with professional service and decent food. Got here at 11 and there was no wait for a table for 2. So... on this particular day I waited an hour for my friend to join me. The waiter kept checking on me and I kept asking to wait and it felt awkward but at no point was he outwardly rude. Asked if he could take away my menu after an hour though.\"\n",
    "r15 = \"Atmosphere super beautiful and aesthetic but the food was very mediocre. For the price you are paying for the experience in the tall ceiling gold and white atmosphere rather than the food. Recommend the soufflé pancake from brunch\""
   ]
  },
  {
   "cell_type": "markdown",
   "id": "56a0ac35-f8f6-4a4a-9386-2d69da6c1bc4",
   "metadata": {},
   "source": [
    "## Use Vader to find the polarity of each review"
   ]
  },
  {
   "cell_type": "code",
   "execution_count": 45,
   "id": "49b01ca6-c3f7-4c8d-a35e-7374f41a2699",
   "metadata": {},
   "outputs": [
    {
     "name": "stderr",
     "output_type": "stream",
     "text": [
      "[nltk_data] Downloading package vader_lexicon to\n",
      "[nltk_data]     /home/jovyan/nltk_data...\n",
      "[nltk_data]   Package vader_lexicon is already up-to-date!\n"
     ]
    },
    {
     "data": {
      "text/plain": [
       "True"
      ]
     },
     "execution_count": 45,
     "metadata": {},
     "output_type": "execute_result"
    }
   ],
   "source": [
    "from nltk.sentiment import vader\n",
    "nltk.download(\"vader_lexicon\")"
   ]
  },
  {
   "cell_type": "code",
   "execution_count": 46,
   "id": "6598fe06-e9a0-40e4-ab0c-b99decbc68cb",
   "metadata": {},
   "outputs": [],
   "source": [
    "sia = vader.SentimentIntensityAnalyzer()"
   ]
  },
  {
   "cell_type": "code",
   "execution_count": 47,
   "id": "e83b47a0-34d5-4fde-9751-5bb40785695a",
   "metadata": {},
   "outputs": [
    {
     "name": "stdout",
     "output_type": "stream",
     "text": [
      "{'neg': 0.0, 'neu': 0.735, 'pos': 0.265, 'compound': 0.802}\n",
      "{'neg': 0.026, 'neu': 0.763, 'pos': 0.21, 'compound': 0.9663}\n",
      "{'neg': 0.185, 'neu': 0.616, 'pos': 0.199, 'compound': 0.0772}\n",
      "{'neg': 0.0, 'neu': 0.712, 'pos': 0.288, 'compound': 0.9917}\n",
      "{'neg': 0.0, 'neu': 0.648, 'pos': 0.352, 'compound': 0.8988}\n",
      "{'neg': 0.036, 'neu': 0.751, 'pos': 0.213, 'compound': 0.9726}\n",
      "{'neg': 0.019, 'neu': 0.697, 'pos': 0.284, 'compound': 0.9939}\n",
      "{'neg': 0.08, 'neu': 0.725, 'pos': 0.195, 'compound': 0.9204}\n",
      "{'neg': 0.122, 'neu': 0.793, 'pos': 0.085, 'compound': -0.2905}\n"
     ]
    }
   ],
   "source": [
    "five_star_reviews = [r1,r2,r3,r4,r5,r6,r7,r8,r9]\n",
    "for review in five_star_reviews:\n",
    "    print(sia.polarity_scores(review))"
   ]
  },
  {
   "cell_type": "code",
   "execution_count": 48,
   "id": "0452687b-ebfd-4e55-a382-ed8c6abbf036",
   "metadata": {},
   "outputs": [
    {
     "name": "stdout",
     "output_type": "stream",
     "text": [
      "{'neg': 0.017, 'neu': 0.851, 'pos': 0.132, 'compound': 0.9651}\n",
      "{'neg': 0.0, 'neu': 0.832, 'pos': 0.168, 'compound': 0.8951}\n",
      "{'neg': 0.0, 'neu': 1.0, 'pos': 0.0, 'compound': 0.0}\n"
     ]
    }
   ],
   "source": [
    "four_star_reviews = [r10,r11,r12]\n",
    "for review in four_star_reviews:\n",
    "    print(sia.polarity_scores(review))"
   ]
  },
  {
   "cell_type": "code",
   "execution_count": 49,
   "id": "f37bca81-62e0-45d7-b8ff-f87622222477",
   "metadata": {},
   "outputs": [
    {
     "name": "stdout",
     "output_type": "stream",
     "text": [
      "{'neg': 0.06, 'neu': 0.809, 'pos': 0.131, 'compound': 0.7626}\n",
      "{'neg': 0.121, 'neu': 0.833, 'pos': 0.046, 'compound': -0.7184}\n",
      "{'neg': 0.0, 'neu': 0.811, 'pos': 0.189, 'compound': 0.7992}\n"
     ]
    }
   ],
   "source": [
    "three_star_reviews = [r13,r14,r15]\n",
    "for review in three_star_reviews:\n",
    "    print(sia.polarity_scores(review))"
   ]
  },
  {
   "cell_type": "markdown",
   "id": "5623a255-c55a-4fc1-ba15-46cf29a39eba",
   "metadata": {},
   "source": [
    "## Compare Vader's scores against user-specified numbers of stars\n",
    "\n",
    "#### For the five star reviews, vader thinks they are mostly neutral reviews, with the 'neu' column having the higher scores and less for 'pos'. \n",
    "\n",
    "#### Four star reviews and three star reviews have similar results: vader gives them more weight for 'neu' and less weight for 'pos', in comparison to the five star ones. \n",
    "\n",
    "#### Thus, we can briefly conclude that vader can accurately evaluate the sentiments in the right direction, with reviews of less stars tending more towards neutral than reviews with more stars. However, vader cannot accurate measure the degree of extremity (positivity or negativity) in these reviews. Five star reviews are given more positive weights than four stars ones, but not positive enough that one can conclusively claim that these five reviews are positive. However, five stars are the highest ranking one can give on yelp, so it should have an extreme positivity, towards 1.0, but the values vader gives are closer to 0 than 1.0. "
   ]
  },
  {
   "cell_type": "markdown",
   "id": "7ff3ad66-65d3-48b3-a792-4f3cb7d60e7c",
   "metadata": {},
   "source": [
    "# Step 4 Movie Reviews "
   ]
  },
  {
   "cell_type": "markdown",
   "id": "11028d13-d324-4d87-b7dd-93c5452f6718",
   "metadata": {},
   "source": [
    "## Make 5 strings that contain reviews (3 sentences each) of your favorite movie comedies (Toy Story 4)"
   ]
  },
  {
   "cell_type": "code",
   "execution_count": 50,
   "id": "4ea55b91-1a82-419e-8cfe-b736d6e0354a",
   "metadata": {},
   "outputs": [],
   "source": [
    "r1 = \"The second Toy Story was a sensation that led to Toy Story 3 and now 4. And what sensation exists in Toy Story 4! These characters actually experience and that tiny shift really refreshes the franchise.\"\n",
    "r2 = \"Kudos to Pixar for making yet another film that satisfies on so many levels. A sublime ending to a perfect franchise. Pixar's franchise heads into new territory with this funny, poignant, charming road trip about passing on the baton.\"\n",
    "r3 = \"It may not have truly needed to be made, but Toy Story 4 is just as good as any of the other films in the series and proves once again that Pixar is the undisputed master in the animation field. While I have to acknowledge that it isn't a particularly necessary movie, I also must say I'm so very glad they made it. Although it's unusual for Pixar to continue a series for this long, if each new episode is going to remain this spectacular, keep them coming.\"\n",
    "r4 = \"What Pixar does so well is they take something familiar or, in this case, done thrice before, and make it fresh. oy Story 4 is a beautiful bookend to a story that holds a special place in the hearts of many. Though the film covers much of the same ground from the three previous entries, there's still enough emotional gas in the tank to make this worth seeing.\"\n",
    "r5 = \"Toy Story 4 is more like an epilogue than a new chapter. A funny, moving, surreal epilogue filled with existential angst. I am not crying, you are crying.\""
   ]
  },
  {
   "cell_type": "markdown",
   "id": "f690e4c0-d7a4-4264-9b4b-4e9e67ee7f3e",
   "metadata": {},
   "source": [
    "## Make 5 strings that contain reviews (3 sentence each) of your favorite movie dramas (Parasite)"
   ]
  },
  {
   "cell_type": "code",
   "execution_count": 51,
   "id": "87563936-6d91-4177-aa10-a38f63565592",
   "metadata": {},
   "outputs": [],
   "source": [
    "r6 = \"I think it's a career peak for [Bong Joon-ho]. Watching that drama -- the bricks sort of build and then topple -- is so satisfying. This is what a true masterpiece looks like.\"\n",
    "r7 = \"Bong delivers a stunning return to form with this newest venture. Bong Joon-ho's work is as playful as it is sincere and revelatory. He'll make you feel at home, and then rip the rug out from under you.\"\n",
    "r8 = \"A tragicomic masterclass. It will get under your skin and eat away at your cinematic soul. Your heart lingers, even after the film finishes. \"\n",
    "r9 = \"A twist-laden narrative that effortlessly shapeshifts from comedy to drama to thriller with liquid ease. A bonkers, beautiful, radical, and drop-dead intelligent dark satirical tale. A film of social inequality [and the] mock egalitarian weirdness of late capitalism.\"\n",
    "r10 = \"Like Ki-Jung, Park So-dam is the standout in a film filled with strong performances. Parasite finds a way to be visually stunning, thematically resonant, horrifyingly tragic and fantastically gripping. At the same time fooling the audience into thinking they are having the time of their life.\""
   ]
  },
  {
   "cell_type": "markdown",
   "id": "19be1bb0-238f-4ab5-9481-a40c7c080d1a",
   "metadata": {},
   "source": [
    "## Make a Python list that contains these 10 strings"
   ]
  },
  {
   "cell_type": "code",
   "execution_count": null,
   "id": "b1985bda-b081-46e0-9c2e-a0e9728355db",
   "metadata": {},
   "outputs": [],
   "source": [
    "movie_reviews = [r1,r2,r3,r4,r5,r6,r7,r8,r9,r10]"
   ]
  },
  {
   "cell_type": "code",
   "execution_count": 24,
   "id": "12e39d8c-8123-44b3-af6b-e38e86587f41",
   "metadata": {},
   "outputs": [],
   "source": [
    "extrastop = ['``',\"''\",\"'re\",\"'s\",\"'re\",'``',\"''\",\"'ll\",\"--\",\"\\'\\'\",\"...\",\n",
    "             \"n\\'t\",'one','would','use','subject','from',\"\\'m\",\"\\'ve\"]\n",
    "myStopWords = textsw + extrastop\n",
    "listOfNewsWords = []\n",
    "for i in movie_reviews:\n",
    "    listOfNewsWords.append([w for w in word_tokenize(i.lower()) if w not in myStopWords])"
   ]
  },
  {
   "cell_type": "code",
   "execution_count": 25,
   "id": "953e92c3-0fac-43cc-9c67-00a1c9d6c041",
   "metadata": {},
   "outputs": [],
   "source": [
    "from nltk.stem.porter import PorterStemmer\n",
    "p_stemmer = PorterStemmer()\n",
    "listOfStemmedWords = []\n",
    "for i in listOfNewsWords:\n",
    "    listOfStemmedWords.append([p_stemmer.stem(w) for w in i])"
   ]
  },
  {
   "cell_type": "code",
   "execution_count": 26,
   "id": "10a0d799-511e-4412-9466-12b623ab6a21",
   "metadata": {},
   "outputs": [
    {
     "name": "stdout",
     "output_type": "stream",
     "text": [
      "Collecting gensim\n",
      "  Downloading gensim-4.1.2-cp39-cp39-manylinux_2_12_x86_64.manylinux2010_x86_64.whl (24.0 MB)\n",
      "\u001b[K     |████████████████████████████████| 24.0 MB 25.0 MB/s eta 0:00:01\n",
      "\u001b[?25hCollecting smart-open>=1.8.1\n",
      "  Downloading smart_open-5.2.1-py3-none-any.whl (58 kB)\n",
      "\u001b[K     |████████████████████████████████| 58 kB 2.4 MB/s  eta 0:00:01\n",
      "\u001b[?25hRequirement already satisfied: numpy>=1.17.0 in /opt/conda/lib/python3.9/site-packages (from gensim) (1.20.3)\n",
      "Requirement already satisfied: scipy>=0.18.1 in /opt/conda/lib/python3.9/site-packages (from gensim) (1.7.1)\n",
      "Installing collected packages: smart-open, gensim\n",
      "Successfully installed gensim-4.1.2 smart-open-5.2.1\n"
     ]
    }
   ],
   "source": [
    "!pip install gensim"
   ]
  },
  {
   "cell_type": "code",
   "execution_count": 27,
   "id": "8add4bfe-53b5-46d9-b99f-6dfa3784c978",
   "metadata": {},
   "outputs": [],
   "source": [
    "from gensim import corpora, models\n",
    "import gensim\n",
    "\n",
    "dictionary = corpora.Dictionary(listOfStemmedWords)\n",
    "corpus = [dictionary.doc2bow(text) for text in listOfStemmedWords]"
   ]
  },
  {
   "cell_type": "code",
   "execution_count": 33,
   "id": "431606b9-4990-42fd-81f2-96a15b247f70",
   "metadata": {},
   "outputs": [],
   "source": [
    "ldamodel = gensim.models.ldamodel.LdaModel(corpus, \n",
    "                                           num_topics=2, \n",
    "                                           id2word = dictionary, \n",
    "                                           passes=20)"
   ]
  },
  {
   "cell_type": "code",
   "execution_count": 34,
   "id": "20fad441-5ca6-42a7-9be9-eeb06ce38b9b",
   "metadata": {},
   "outputs": [
    {
     "name": "stdout",
     "output_type": "stream",
     "text": [
      "(0, '0.020*\"film\" + 0.016*\"toy\" + 0.016*\"franchis\" + 0.016*\"stori\" + 0.011*\"like\" + 0.011*\"drama\" + 0.011*\"time\" + 0.011*\"sensat\" + 0.011*\"satisfi\" + 0.011*\"think\" + 0.011*\"pixar\" + 0.007*\"fill\" + 0.007*\"funni\" + 0.007*\"stun\" + 0.007*\"shapeshift\" + 0.007*\"bonker\" + 0.007*\"tale\" + 0.007*\"mock\" + 0.007*\"weird\" + 0.007*\"intellig\"')\n",
      "(1, '0.022*\"stori\" + 0.017*\"4\" + 0.017*\"make\" + 0.017*\"pixar\" + 0.012*\"bong\" + 0.012*\"new\" + 0.012*\"film\" + 0.012*\"made\" + 0.012*\"seri\" + 0.012*\"toy\" + 0.012*\"epilogu\" + 0.012*\"cri\" + 0.007*\"heart\" + 0.007*\"mani\" + 0.007*\"joon-ho\" + 0.007*\"beauti\" + 0.007*\"remain\" + 0.007*\"anim\" + 0.007*\"may\" + 0.007*\"go\"')\n"
     ]
    }
   ],
   "source": [
    "for i in ldamodel.print_topics(num_topics=2, num_words=20):\n",
    "    print(i)"
   ]
  },
  {
   "cell_type": "markdown",
   "id": "fbc5c355-b008-4393-af35-9a078b5c4ae9",
   "metadata": {},
   "source": [
    "## Comment on the words that the model chooses to represent the 2 topics, and whether they match with your split between comedies and dramas\n",
    "\n",
    "#### The words chosen by the model don't necessarily represent the split between comedies and dramas, as we see \"funni\" and \"drama\" all in category 0. The words do not exhibit any particular trait. "
   ]
  }
 ],
 "metadata": {
  "kernelspec": {
   "display_name": "Python 3 (ipykernel)",
   "language": "python",
   "name": "python3"
  },
  "language_info": {
   "codemirror_mode": {
    "name": "ipython",
    "version": 3
   },
   "file_extension": ".py",
   "mimetype": "text/x-python",
   "name": "python",
   "nbconvert_exporter": "python",
   "pygments_lexer": "ipython3",
   "version": "3.9.6"
  }
 },
 "nbformat": 4,
 "nbformat_minor": 5
}

{
 "cells": [
  {
   "cell_type": "markdown",
   "id": "dae830f9-4073-4147-a775-72e49d067c42",
   "metadata": {
    "tags": []
   },
   "source": [
    "### Class title: DH 140, Winter 2022\n",
    "### This file is an exploration of the Business Analytics Dataset. \n",
    "[Link to dataset page](https://corgis-edu.github.io/corgis/csv/business_dynamics/)\n",
    "### This dataset includes American economic measures/, such as the number of openings and closings, job creation, company age and size, etc. \n",
    "###      Author: Ophelia Dong. \n",
    "# --------------------------------------------------------------"
   ]
  },
  {
   "cell_type": "markdown",
   "id": "31e56130-3e41-424b-8ef1-a807c19c6d38",
   "metadata": {},
   "source": [
    "#### Section No.1 Import necessary modules"
   ]
  },
  {
   "cell_type": "code",
   "execution_count": 28,
   "id": "284ab72b-951c-4a61-8624-facf4c8cf210",
   "metadata": {},
   "outputs": [],
   "source": [
    "import pandas as pd"
   ]
  },
  {
   "cell_type": "markdown",
   "id": "dd2db2b0-407e-4ab4-86a9-afe3fa7aa4ba",
   "metadata": {},
   "source": [
    "#### Section No.2 Import dataset"
   ]
  },
  {
   "cell_type": "code",
   "execution_count": null,
   "id": "7e684773-6390-4d07-85d5-35b585852369",
   "metadata": {},
   "outputs": [],
   "source": [
    "file = pd.read_csv(\"business_dynamics.csv\")"
   ]
  },
  {
   "cell_type": "markdown",
   "id": "01c7fcce-dfa1-4f3b-ab5e-11130ec6baed",
   "metadata": {},
   "source": [
    "#### Section No.3 Filtering California Companies (Using Conditional Expressions)"
   ]
  },
  {
   "cell_type": "code",
   "execution_count": null,
   "id": "762fc046-eecb-49df-ab46-48abf0b7508c",
   "metadata": {},
   "outputs": [],
   "source": [
    "# Finding all Californian companies in this this dataset \n",
    "# Save it to a new dataframe called california_data\n",
    "california_data = file[file[\"State\"] == \"California\"]\n",
    "\n",
    "# Look at some of the data \n",
    "california_data.head()"
   ]
  },
  {
   "cell_type": "code",
   "execution_count": 40,
   "id": "46017ebf-bee5-4646-88b4-49d34015387c",
   "metadata": {},
   "outputs": [
    {
     "data": {
      "text/plain": [
       "41"
      ]
     },
     "execution_count": 40,
     "metadata": {},
     "output_type": "execute_result"
    }
   ],
   "source": [
    "# There are 41 Californian companies \n",
    "len(california_data)"
   ]
  },
  {
   "cell_type": "markdown",
   "id": "5ca3b357-4106-4c32-9b21-1889f9c4810f",
   "metadata": {},
   "source": [
    "#### Section No.4 Calculates average job creations in California (Mathematical Operations and For Loop)"
   ]
  },
  {
   "cell_type": "code",
   "execution_count": 48,
   "id": "99d6086e-5ef5-4278-a61b-3d0baae7de27",
   "metadata": {},
   "outputs": [
    {
     "name": "stdout",
     "output_type": "stream",
     "text": [
      "48173.31034482759\n"
     ]
    }
   ],
   "source": [
    "# In this section, I am calculating the average number of jobs created by Californian companies \n",
    "# who created more than 40,000 jobs \n",
    "\n",
    "# This is the sum of jobs created\n",
    "sum_job_created = 0 \n",
    "# This is the number of californian companies that created more than > 40,000 jobs \n",
    "num_company = 0 \n",
    "\n",
    "# For each iteration, the if statement decides whether the company created more than 40,000 jobs\n",
    "# If yes, then we add this number to the sum of jobs created, add one to num_company\n",
    "for num in california_data[\"Data.Job Creation.Births\"]:\n",
    "    if num > 40000: \n",
    "        sum_job_created = sum_job_created + num \n",
    "        num_company = num_company + 1 \n",
    "        \n",
    "\n",
    "# This is the average number of jobs created by Californian companies who created more than 40,000 jobs,\n",
    "# From years 1978 ~ 2018 \n",
    "print(sum_job_created / num_company)"
   ]
  },
  {
   "cell_type": "markdown",
   "id": "52d33871-8de0-45a7-a171-62deb96c60a5",
   "metadata": {},
   "source": [
    "#### Section No.4 Find a specific value in a specific state and year (Defining Functions)"
   ]
  },
  {
   "cell_type": "code",
   "execution_count": 69,
   "id": "2b6526c4-c607-48ac-9076-60c1623c4a17",
   "metadata": {},
   "outputs": [],
   "source": [
    "# This function takes in three variables, file = dataframe name, state = name of a state in this dataset\n",
    "# and year = year within the range in this dataset \n",
    "# This function outputs the value of any column of the specified state in the specified year \n",
    "\n",
    "def find_num_firms(file,state,year,column):\n",
    "    # take only rows in the wanted year \n",
    "    new = file[file[\"Year\"] == year]\n",
    "    \n",
    "    # result is the value of the column for that specific state and year wanted\n",
    "    result = new[new[\"State\"] == state][column]\n",
    "    \n",
    "    return result \n",
    "    "
   ]
  },
  {
   "cell_type": "code",
   "execution_count": 84,
   "id": "ea76f764-e5f5-44a6-823d-9f373e480db0",
   "metadata": {},
   "outputs": [
    {
     "data": {
      "text/plain": [
       "36821"
      ]
     },
     "execution_count": 84,
     "metadata": {},
     "output_type": "execute_result"
    }
   ],
   "source": [
    "find_num_firms(file=file,state=\"California\",year=1978,column=\"Data.Number of Firms\")"
   ]
  },
  {
   "cell_type": "markdown",
   "id": "98dc320a-bfb4-4ae3-9177-921014f0489f",
   "metadata": {},
   "source": [
    "#### Section No.5 Prints out the number of firms in California for 1978 - 2018 (Using Function and Loops)"
   ]
  },
  {
   "cell_type": "code",
   "execution_count": 94,
   "id": "565701d2-ceb3-4cc1-9a99-16d3b60ee5c2",
   "metadata": {},
   "outputs": [
    {
     "name": "stdout",
     "output_type": "stream",
     "text": [
      "State: California | Year: 1978 | Column: 36821\n",
      "State: California | Year: 1979 | Column: 37250\n",
      "State: California | Year: 1980 | Column: 37057\n",
      "State: California | Year: 1981 | Column: 36818\n",
      "State: California | Year: 1982 | Column: 36204\n",
      "State: California | Year: 1983 | Column: 37183\n",
      "State: California | Year: 1984 | Column: 39236\n",
      "State: California | Year: 1985 | Column: 39591\n",
      "State: California | Year: 1986 | Column: 39482\n",
      "State: California | Year: 1987 | Column: 39549\n",
      "State: California | Year: 1988 | Column: 40139\n",
      "State: California | Year: 1989 | Column: 40531\n",
      "State: California | Year: 1990 | Column: 41362\n",
      "State: California | Year: 1991 | Column: 41236\n",
      "State: California | Year: 1992 | Column: 41708\n",
      "State: California | Year: 1993 | Column: 43077\n",
      "State: California | Year: 1994 | Column: 44218\n",
      "State: California | Year: 1995 | Column: 45420\n",
      "State: California | Year: 1996 | Column: 45793\n",
      "State: California | Year: 1997 | Column: 46053\n",
      "State: California | Year: 1998 | Column: 46036\n",
      "State: California | Year: 1999 | Column: 46052\n",
      "State: California | Year: 2000 | Column: 46170\n",
      "State: California | Year: 2001 | Column: 45611\n",
      "State: California | Year: 2002 | Column: 46004\n",
      "State: California | Year: 2003 | Column: 46517\n",
      "State: California | Year: 2004 | Column: 47068\n",
      "State: California | Year: 2005 | Column: 47527\n",
      "State: California | Year: 2006 | Column: 47887\n",
      "State: California | Year: 2007 | Column: 48029\n",
      "State: California | Year: 2008 | Column: 47447\n",
      "State: California | Year: 2009 | Column: 46617\n",
      "State: California | Year: 2010 | Column: 46127\n",
      "State: California | Year: 2011 | Column: 45703\n",
      "State: California | Year: 2012 | Column: 45646\n",
      "State: California | Year: 2013 | Column: 45507\n",
      "State: California | Year: 2014 | Column: 45398\n",
      "State: California | Year: 2015 | Column: 45337\n",
      "State: California | Year: 2016 | Column: 45669\n",
      "State: California | Year: 2017 | Column: 45771\n",
      "State: California | Year: 2018 | Column: 45821\n"
     ]
    }
   ],
   "source": [
    "for year in list(range(1978,2019)):\n",
    "    print(\"State: California |\",\"Year:\",year, \"| Column:\",find_num_firms(file=file,state=\"California\",year=year,column = \"Data.Number of Firms\").values[0],sep = \" \")\n"
   ]
  },
  {
   "cell_type": "code",
   "execution_count": null,
   "id": "444962a6-1c78-4a08-861b-0633234ce41f",
   "metadata": {},
   "outputs": [],
   "source": []
  }
 ],
 "metadata": {
  "kernelspec": {
   "display_name": "Python 3 (ipykernel)",
   "language": "python",
   "name": "python3"
  },
  "language_info": {
   "codemirror_mode": {
    "name": "ipython",
    "version": 3
   },
   "file_extension": ".py",
   "mimetype": "text/x-python",
   "name": "python",
   "nbconvert_exporter": "python",
   "pygments_lexer": "ipython3",
   "version": "3.9.6"
  }
 },
 "nbformat": 4,
 "nbformat_minor": 5
}
